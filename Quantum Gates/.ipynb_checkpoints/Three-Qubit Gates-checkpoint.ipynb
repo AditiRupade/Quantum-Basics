{
 "cells": [
  {
   "cell_type": "markdown",
   "id": "bcf3d20a",
   "metadata": {},
   "source": [
    "Developed in \\-\n",
    "<br>\n",
    "     **Python: 3.9\n",
    "     <br>\n",
    "     SDK: Qiskit**\n",
    "<br>    \n",
    "Qiskit is an open source SDK for working with IBM Quantum processor. You can use it locally by consuming multiple APIs provided by [Qiskit](https://qiskit.org/documentation/getting_started.html) or you can also run it on [IBM Quantum Cloud](https://quantum-computing.ibm.com/).\n",
    "\n",
    "$$\\newcommand{\\ket}[1]{\\left|{#1}\\right\\rangle}$$\n",
    "$$\\newcommand{\\bra}[1]{\\left\\langle{#1}\\right|}$$"
   ]
  },
  {
   "cell_type": "markdown",
   "id": "11cb0354",
   "metadata": {},
   "source": [
    "### Toffoli Gate\n",
    "\n",
    "The Toffoli or CCX gate is a three qubit quantum gate. Just like CNOT gate, it is made up of two \"control\" qubit and \"target\" qubit. If both the \"control\" qubits are 1, then \"target\" qubit is flipped, otherwise nothing happens. It is analogous to classical AND gate.\n",
    "\n",
    "$$\n",
    "CCX\\ket{000} = \\ket{000} \\\\\n",
    "CCX\\ket{101} = \\ket{101} \\\\\n",
    "CCX\\ket{110} = \\ket{111} \\\\\n",
    "CCX\\ket{111} = \\ket{110}\n",
    "$$"
   ]
  },
  {
   "cell_type": "code",
   "execution_count": 1,
   "id": "ee1f785c",
   "metadata": {},
   "outputs": [
    {
     "data": {
      "image/png": "[encoded data removed]",
      "text/plain": [
       "<Figure size 206.997x264.88 with 1 Axes>"
      ]
     },
     "execution_count": 1,
     "metadata": {},
     "output_type": "execute_result"
    }
   ],
   "source": [
    "from qiskit import QuantumCircuit\n",
    "\n",
    "quantum_circuit = QuantumCircuit(3,1)\n",
    "quantum_circuit.ccx(0,1,2)\n",
    "quantum_circuit.measure(2,0)\n",
    "\n",
    "quantum_circuit.draw('mpl')"
   ]
  },
  {
   "cell_type": "markdown",
   "id": "43b5a30b",
   "metadata": {},
   "source": [
    "Author : **[Aditi Rupade](https://aditirupade.github.io/)**"
   ]
  }
 ],
 "metadata": {
  "kernelspec": {
   "display_name": "Python 3 (ipykernel)",
   "language": "python",
   "name": "python3"
  },
  "language_info": {
   "codemirror_mode": {
    "name": "ipython",
    "version": 3
   },
   "file_extension": ".py",
   "mimetype": "text/x-python",
   "name": "python",
   "nbconvert_exporter": "python",
   "pygments_lexer": "ipython3",
   "version": "3.7.11"
  }
 },
 "nbformat": 4,
 "nbformat_minor": 5
}
