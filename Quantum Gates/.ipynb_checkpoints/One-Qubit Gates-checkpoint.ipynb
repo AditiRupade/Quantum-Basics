{
 "cells": [
  {
   "cell_type": "markdown",
   "id": "dcf43848",
   "metadata": {},
   "source": [
    "Developed in \\-\n",
    "<br>\n",
    "     **Python: 3.9\n",
    "     <br>\n",
    "     SDK: Qiskit**\n",
    "<br>    \n",
    "Qiskit is an open source SDK for working with IBM Quantum processor. You can use it locally by consuming multiple APIs provided by [Qiskit](https://qiskit.org/documentation/getting_started.html) or you can also run it on [IBM Quantum Cloud](https://quantum-computing.ibm.com/)."
   ]
  },
  {
   "cell_type": "markdown",
   "id": "63e42e05",
   "metadata": {},
   "source": [
    "## Quantum Gates\n",
    "\n",
    "The quantum gates are analogous to classical gates (AND, OR, NOT) and like classical gates, they are used to manipulate the state of the qubit in state space. There are some basic gates which are used as building blocks for other quantum gates and quantum circuits. Before starting with quantum gates, let's get familiar with some basic notations in quantum computation."
   ]
  },
  {
   "cell_type": "markdown",
   "id": "ff7b2351",
   "metadata": {},
   "source": [
    "### Quantum NOT Gate\n",
    "\n",
    "The quantum NOT gate is similar to classical NOT gate and does the same thing as the classical gate does. It is used interchangeably with 'X' symbol."
   ]
  },
  {
   "cell_type": "markdown",
   "id": "1b8b957e",
   "metadata": {},
   "source": [
    "$$\\newcommand{\\ket}[1]{\\left|{#1}\\right\\rangle}$$\n",
    "$$\\newcommand{\\bra}[1]{\\left\\langle{#1}\\right|}$$\n",
    "\n",
    "$$ NOT \\ket{0} = \\ket{1} $$\n",
    "$$ X \\ket{1} = \\ket{0} $$"
   ]
  },
  {
   "cell_type": "markdown",
   "id": "25c36bd2",
   "metadata": {},
   "source": [
    "The vector representation of X gate is as follows-\n",
    "\n",
    "$X =  \\begin{bmatrix} 0 & 1 \\\\ 1 & 0 \\end{bmatrix} $"
   ]
  },
  {
   "cell_type": "code",
   "execution_count": 5,
   "id": "7136940e",
   "metadata": {},
   "outputs": [
    {
     "data": {
      "image/png": "[encoded data removed]",
      "text/plain": [
       "<Figure size 193.726x144.48 with 1 Axes>"
      ]
     },
     "execution_count": 5,
     "metadata": {},
     "output_type": "execute_result"
    }
   ],
   "source": [
    "from qiskit import QuantumCircuit\n",
    "\n",
    "quantum_circuit = QuantumCircuit(1,1)\n",
    "quantum_circuit.x(0)\n",
    "quantum_circuit.measure(0,0)\n",
    "\n",
    "quantum_circuit.draw('mpl')"
   ]
  },
  {
   "cell_type": "markdown",
   "id": "87061c06",
   "metadata": {},
   "source": [
    "Author : **[Aditi Rupade](https://aditirupade.github.io/)**"
   ]
  }
 ],
 "metadata": {
  "kernelspec": {
   "display_name": "Python 3 (ipykernel)",
   "language": "python",
   "name": "python3"
  },
  "language_info": {
   "codemirror_mode": {
    "name": "ipython",
    "version": 3
   },
   "file_extension": ".py",
   "mimetype": "text/x-python",
   "name": "python",
   "nbconvert_exporter": "python",
   "pygments_lexer": "ipython3",
   "version": "3.7.11"
  }
 },
 "nbformat": 4,
 "nbformat_minor": 5
}
