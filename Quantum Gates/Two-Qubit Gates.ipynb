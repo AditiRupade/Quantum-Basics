{
 "cells": [
  {
   "cell_type": "markdown",
   "id": "628985e9",
   "metadata": {},
   "source": [
    "Developed in \\-\n",
    "<br>\n",
    "     **Python: 3.9\n",
    "     <br>\n",
    "     SDK: Qiskit**\n",
    "<br>    \n",
    "Qiskit is an open source SDK for working with IBM Quantum processor. You can use it locally by consuming multiple APIs provided by [Qiskit](https://qiskit.org/documentation/getting_started.html) or you can also run it on [IBM Quantum Cloud](https://quantum-computing.ibm.com/)."
   ]
  },
  {
   "cell_type": "markdown",
   "id": "01b06737",
   "metadata": {},
   "source": [
    "$$\\newcommand{\\ket}[1]{\\left|{#1}\\right\\rangle}$$\n",
    "$$\\newcommand{\\bra}[1]{\\left\\langle{#1}\\right|}$$"
   ]
  },
  {
   "cell_type": "markdown",
   "id": "755014fe",
   "metadata": {},
   "source": [
    "### CNOT Gate\n",
    "\n",
    "The controlled-NOT gate or CNOT gate is a two qubit quantum gate. It is made up of a \"control\" qubit and \"target\" qubit. If the \"control\" qubit is 1, then \"target\" qubit is flipped, otherwise nothing happens. It is analogous to classical XOR gate.\n",
    "\n",
    "$$\n",
    "CNOT\\ket{00} = \\ket{00} \\\\\n",
    "CNOT\\ket{01} = \\ket{01} \\\\\n",
    "CNOT\\ket{10} = \\ket{11} \\\\\n",
    "CNOT\\ket{11} = \\ket{10}\n",
    "$$"
   ]
  },
  {
   "cell_type": "markdown",
   "id": "70a400b3",
   "metadata": {},
   "source": [
    "The vector representation of CNOT gate is as follows-\n",
    "\n",
    "$ CNOT = \\begin{bmatrix} 1 & 0 & 0 & 0 \\\\ 0 & 1 & 0 & 0 \\\\ 0 & 0 & 0 & 1 \\\\ 0 & 0 & 1 & 0 \\end{bmatrix} $"
   ]
  },
  {
   "cell_type": "code",
   "execution_count": 2,
   "id": "ac410297",
   "metadata": {},
   "outputs": [
    {
     "data": {
      "image/png": "[encoded data removed]",
      "text/plain": [
       "<Figure size 206.852x204.68 with 1 Axes>"
      ]
     },
     "execution_count": 2,
     "metadata": {},
     "output_type": "execute_result"
    }
   ],
   "source": [
    "from qiskit import QuantumCircuit\n",
    "\n",
    "quantum_circuit = QuantumCircuit(2,1)\n",
    "quantum_circuit.cx(0,1)\n",
    "quantum_circuit.measure(1,0)\n",
    "\n",
    "quantum_circuit.draw('mpl')"
   ]
  },
  {
   "cell_type": "markdown",
   "id": "6a60ca08",
   "metadata": {},
   "source": [
    "### Hadamard Gate"
   ]
  },
  {
   "cell_type": "markdown",
   "id": "37ad6267",
   "metadata": {},
   "source": [
    "Hadamard gate, unlike a classical gate, is a special gate used to create a superposition state. \n",
    "$$ H\\ket{0} = \\frac{\\ket{0}+\\ket{1}}{\\sqrt{2}} $$\n",
    "$$ H\\ket{1} = \\frac{\\ket{0}-\\ket{1}}{\\sqrt{2}} $$"
   ]
  },
  {
   "cell_type": "markdown",
   "id": "423933d1",
   "metadata": {},
   "source": [
    "The vector representation of Hadamard or H gate is as follows-\n",
    "\n",
    "$ H = \\frac{1}{\\sqrt{2}} \\begin{bmatrix} 1 & 1 \\\\ 1 & -1 \\end{bmatrix} $"
   ]
  },
  {
   "cell_type": "code",
   "execution_count": 3,
   "id": "37e62c28",
   "metadata": {},
   "outputs": [
    {
     "data": {
      "image/png": "[encoded data removed]",
      "text/plain": [
       "<Figure size 193.726x144.48 with 1 Axes>"
      ]
     },
     "execution_count": 3,
     "metadata": {},
     "output_type": "execute_result"
    }
   ],
   "source": [
    "quantum_circuit = QuantumCircuit(1,1)\n",
    "quantum_circuit.h(0)\n",
    "quantum_circuit.measure(0,0)\n",
    "\n",
    "quantum_circuit.draw('mpl')"
   ]
  },
  {
   "cell_type": "markdown",
   "id": "c4297fec",
   "metadata": {},
   "source": [
    "Author : **[Aditi Rupade](https://aditirupade.github.io/)**"
   ]
  }
 ],
 "metadata": {
  "kernelspec": {
   "display_name": "Python 3 (ipykernel)",
   "language": "python",
   "name": "python3"
  },
  "language_info": {
   "codemirror_mode": {
    "name": "ipython",
    "version": 3
   },
   "file_extension": ".py",
   "mimetype": "text/x-python",
   "name": "python",
   "nbconvert_exporter": "python",
   "pygments_lexer": "ipython3",
   "version": "3.7.11"
  }
 },
 "nbformat": 4,
 "nbformat_minor": 5
}
