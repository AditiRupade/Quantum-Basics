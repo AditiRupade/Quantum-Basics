{
 "cells": [
  {
   "cell_type": "markdown",
   "id": "a8987244",
   "metadata": {},
   "source": [
    "Developed in \\-\n",
    "<br>\n",
    "     **Python: 3.9\n",
    "     <br>\n",
    "     SDK: Qiskit**\n",
    "<br>    \n",
    "Qiskit is an open source SDK for working with IBM Quantum processor. You can use it locally by consuming multiple APIs provided by [Qiskit](https://qiskit.org/documentation/getting_started.html) or you can also run it on [IBM Quantum Cloud](https://quantum-computing.ibm.com/)."
   ]
  },
  {
   "cell_type": "markdown",
   "id": "1bbe2909",
   "metadata": {},
   "source": [
    "## Quantum Registers"
   ]
  },
  {
   "cell_type": "markdown",
   "id": "f9262f2b",
   "metadata": {},
   "source": [
    "Before starting with Quantum Circuits, first let's discuss on the basic element of a circuit \"QUBIT\". Like a classical computer requires bits to store data, Quantum Computers store data in qubits. Qiskit provides libraries to create registers which stores the qubit. These libraries can be used by exporting following packages."
   ]
  },
  {
   "cell_type": "code",
   "execution_count": 1,
   "id": "b77ce378",
   "metadata": {},
   "outputs": [],
   "source": [
    "from qiskit import QuantumRegister"
   ]
  },
  {
   "cell_type": "markdown",
   "id": "0c8cbd17",
   "metadata": {},
   "source": [
    "**Usage:** *var_name = QuantumRegister(number_of_qubits)*"
   ]
  },
  {
   "cell_type": "code",
   "execution_count": 5,
   "id": "6c480f9c",
   "metadata": {},
   "outputs": [],
   "source": [
    "quantum_reg = QuantumRegister(1)"
   ]
  },
  {
   "cell_type": "markdown",
   "id": "2a28ad33",
   "metadata": {},
   "source": [
    "Measurement of qubits is stored in the form of classical information in classical registers\n",
    "\n",
    "**Usage:** *var_name = ClassicalRegister(number_of_bits)*"
   ]
  },
  {
   "cell_type": "code",
   "execution_count": 6,
   "id": "c09b165e",
   "metadata": {},
   "outputs": [],
   "source": [
    "from qiskit import ClassicalRegister\n",
    "classical_reg = ClassicalRegister(1)"
   ]
  },
  {
   "cell_type": "markdown",
   "id": "b8cdb8a9",
   "metadata": {},
   "source": [
    "## Quantum Circuits"
   ]
  },
  {
   "cell_type": "markdown",
   "id": "41b79ebf",
   "metadata": {},
   "source": [
    "A quantum circuit is comprised of multiple building blocks-\n",
    "* Quantum Registers - to hold qubit data\n",
    "* Classical Registers - to hold measurement data\n",
    "* Quantum Gates - to manipulate qubits\n",
    "\n",
    "There are multiple possibilities to build a quantum circuit (depending on the context). Here we will discuss on some basic circuit creation techniques."
   ]
  },
  {
   "cell_type": "markdown",
   "id": "7fb2f0f1",
   "metadata": {},
   "source": [
    "To start with, the simplest quantum circuit ever is a quantum wire. It might seem easy from an abstract level, but it was very difficult to maintain a quantum state, for e.g. a state stored in a molecule, photon, electron or an atom. As quantum states are very fragile, they can be easily disturbed and manipulated."
   ]
  },
  {
   "cell_type": "code",
   "execution_count": 8,
   "id": "a4584b43",
   "metadata": {},
   "outputs": [
    {
     "data": {
      "image/png": "[encoded data removed]",
      "text/plain": [
       "<Figure size 116.552x84.28 with 1 Axes>"
      ]
     },
     "execution_count": 8,
     "metadata": {},
     "output_type": "execute_result"
    }
   ],
   "source": [
    "from qiskit import QuantumCircuit\n",
    "\n",
    "quantum_circuit = QuantumCircuit(quantum_reg)\n",
    "\n",
    "quantum_circuit.draw('mpl')"
   ]
  },
  {
   "cell_type": "markdown",
   "id": "b7e4317d",
   "metadata": {},
   "source": [
    "Qiskit provides QuantumCircuit() function to create quantum circuits. <br>\n",
    "**Usage:** *var_name = QuantumCircuit(quantum_registers, \\[classical registers\\])*"
   ]
  },
  {
   "cell_type": "code",
   "execution_count": 10,
   "id": "e004cf75",
   "metadata": {},
   "outputs": [
    {
     "data": {
      "image/png": "[encoded data removed]",
      "text/plain": [
       "<Figure size 116.552x144.48 with 1 Axes>"
      ]
     },
     "execution_count": 10,
     "metadata": {},
     "output_type": "execute_result"
    }
   ],
   "source": [
    "quantum_circuit_2 = QuantumCircuit(quantum_reg, classical_reg)\n",
    "quantum_circuit_2.draw('mpl')"
   ]
  },
  {
   "cell_type": "code",
   "execution_count": 11,
   "id": "50245098",
   "metadata": {},
   "outputs": [
    {
     "data": {
      "image/png": "[encoded data removed]",
      "text/plain": [
       "<Figure size 116.697x325.08 with 1 Axes>"
      ]
     },
     "execution_count": 11,
     "metadata": {},
     "output_type": "execute_result"
    }
   ],
   "source": [
    "quantum_circuit_3 = QuantumCircuit(4,4)\n",
    "quantum_circuit_3.draw('mpl')"
   ]
  },
  {
   "cell_type": "markdown",
   "id": "832d0e68",
   "metadata": {},
   "source": [
    "*Author* : **[Aditi Rupade](https://aditirupade.github.io/)**"
   ]
  }
 ],
 "metadata": {
  "kernelspec": {
   "display_name": "Python 3 (ipykernel)",
   "language": "python",
   "name": "python3"
  },
  "language_info": {
   "codemirror_mode": {
    "name": "ipython",
    "version": 3
   },
   "file_extension": ".py",
   "mimetype": "text/x-python",
   "name": "python",
   "nbconvert_exporter": "python",
   "pygments_lexer": "ipython3",
   "version": "3.7.11"
  }
 },
 "nbformat": 4,
 "nbformat_minor": 5
}
