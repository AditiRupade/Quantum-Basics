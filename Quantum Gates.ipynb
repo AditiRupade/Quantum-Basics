{
 "cells": [
  {
   "cell_type": "markdown",
   "id": "dcf43848",
   "metadata": {},
   "source": [
    "Developed in \\-\n",
    "<br>\n",
    "     **Python: 3.9\n",
    "     <br>\n",
    "     SDK: Qiskit**\n",
    "<br>    \n",
    "Qiskit is an open source SDK for working with IBM Quantum processor. You can use it locally by consuming multiple APIs provided by [Qiskit](https://qiskit.org/documentation/getting_started.html) or you can also run it on [IBM Quantum Cloud](https://quantum-computing.ibm.com/)."
   ]
  },
  {
   "cell_type": "markdown",
   "id": "63e42e05",
   "metadata": {},
   "source": [
    "## Quantum Gates\n",
    "\n",
    "The quantum gates are analogous to classical gates (AND, OR, NOT) and like classical gates, they are used to manipulate the state of the qubit in state space. There are some basic gates which are used as building blocks for other quantum gates and quantum circuits. Before starting with quantum gates, let's get familiar with some basic notations in quantum computation."
   ]
  },
  {
   "cell_type": "markdown",
   "id": "ff7b2351",
   "metadata": {},
   "source": [
    "### Quantum NOT Gate\n",
    "\n",
    "The quantum NOT gate is similar to classical NOT gate and does the same thing as the classical gate does. It is used interchangeably with 'X' symbol."
   ]
  },
  {
   "cell_type": "markdown",
   "id": "1b8b957e",
   "metadata": {},
   "source": [
    "$$\\newcommand{\\ket}[1]{\\left|{#1}\\right\\rangle}$$\n",
    "$$\\newcommand{\\bra}[1]{\\left\\langle{#1}\\right|}$$\n",
    "\n",
    "$$ NOT \\ket{0} = \\ket{1} $$\n",
    "$$ X \\ket{1} = \\ket{0} $$"
   ]
  },
  {
   "cell_type": "markdown",
   "id": "25c36bd2",
   "metadata": {},
   "source": [
    "The vector representation of X gate is as follows-\n",
    "\n",
    "$X =  \\begin{bmatrix} 0 & 1 \\\\ 1 & 0 \\end{bmatrix} $"
   ]
  },
  {
   "cell_type": "code",
   "execution_count": 5,
   "id": "7136940e",
   "metadata": {},
   "outputs": [
    {
     "data": {
      "image/png": "[encoded data removed]",
      "text/plain": [
       "<Figure size 193.726x144.48 with 1 Axes>"
      ]
     },
     "execution_count": 5,
     "metadata": {},
     "output_type": "execute_result"
    }
   ],
   "source": [
    "from qiskit import QuantumCircuit\n",
    "\n",
    "quantum_circuit = QuantumCircuit(1,1)\n",
    "quantum_circuit.x(0)\n",
    "quantum_circuit.measure(0,0)\n",
    "\n",
    "quantum_circuit.draw('mpl')"
   ]
  },
  {
   "cell_type": "markdown",
   "id": "cf980f03",
   "metadata": {},
   "source": [
    "### Hadamard Gate"
   ]
  },
  {
   "cell_type": "markdown",
   "id": "3d7c7933",
   "metadata": {},
   "source": [
    "Hadamard gate, unlike a classical gate, is a special gate used to create a superposition state. \n",
    "$$ H\\ket{0} = \\frac{\\ket{0}+\\ket{1}}{\\sqrt{2}} $$\n",
    "$$ H\\ket{1} = \\frac{\\ket{0}-\\ket{1}}{\\sqrt{2}} $$"
   ]
  },
  {
   "cell_type": "markdown",
   "id": "6adf8cf0",
   "metadata": {},
   "source": [
    "The vector representation of Hadamard or H gate is as follows-\n",
    "\n",
    "$ H = \\frac{1}{\\sqrt{2}} \\begin{bmatrix} 1 & 1 \\\\ 1 & -1 \\end{bmatrix} $"
   ]
  },
  {
   "cell_type": "code",
   "execution_count": 6,
   "id": "2f933416",
   "metadata": {},
   "outputs": [
    {
     "data": {
      "image/png": "[encoded data removed]",
      "text/plain": [
       "<Figure size 193.726x144.48 with 1 Axes>"
      ]
     },
     "execution_count": 6,
     "metadata": {},
     "output_type": "execute_result"
    }
   ],
   "source": [
    "quantum_circuit = QuantumCircuit(1,1)\n",
    "quantum_circuit.h(0)\n",
    "quantum_circuit.measure(0,0)\n",
    "\n",
    "quantum_circuit.draw('mpl')"
   ]
  },
  {
   "cell_type": "markdown",
   "id": "9f0d03b1",
   "metadata": {},
   "source": [
    "### CNOT Gate\n",
    "\n",
    "The controlled-NOT gate or CNOT gate is a two qubit quantum gate. It is made up of a \"control\" qubit and \"target\" qubit. If the \"control\" qubit is 1, then \"target\" qubit is flipped, otherwise nothing happens. It is analogous to classical XOR gate.\n",
    "\n",
    "$$\n",
    "CNOT\\ket{00} = \\ket{00} \\\\\n",
    "CNOT\\ket{01} = \\ket{01} \\\\\n",
    "CNOT\\ket{10} = \\ket{11} \\\\\n",
    "CNOT\\ket{11} = \\ket{10}\n",
    "$$"
   ]
  },
  {
   "cell_type": "markdown",
   "id": "0184321d",
   "metadata": {},
   "source": [
    "The vector representation of CNOT gate is as follows-\n",
    "\n",
    "$ CNOT = \\begin{bmatrix} 1 & 0 & 0 & 0 \\\\ 0 & 1 & 0 & 0 \\\\ 0 & 0 & 0 & 1 \\\\ 0 & 0 & 1 & 0 \\end{bmatrix} $"
   ]
  },
  {
   "cell_type": "code",
   "execution_count": 7,
   "id": "fbb47007",
   "metadata": {},
   "outputs": [
    {
     "data": {
      "image/png": "[encoded data removed]",
      "text/plain": [
       "<Figure size 206.852x204.68 with 1 Axes>"
      ]
     },
     "execution_count": 7,
     "metadata": {},
     "output_type": "execute_result"
    }
   ],
   "source": [
    "quantum_circuit = QuantumCircuit(2,1)\n",
    "quantum_circuit.cx(0,1)\n",
    "quantum_circuit.measure(1,0)\n",
    "\n",
    "quantum_circuit.draw('mpl')"
   ]
  },
  {
   "cell_type": "markdown",
   "id": "ce7ac97d",
   "metadata": {},
   "source": [
    "### Toffoli Gate\n",
    "\n",
    "The Toffoli or CCX gate is a three qubit quantum gate. Just like CNOT gate, it is made up of two \"control\" qubit and \"target\" qubit. If both the \"control\" qubits are 1, then \"target\" qubit is flipped, otherwise nothing happens. It is analogous to classical AND gate.\n",
    "\n",
    "$$\n",
    "CCX\\ket{000} = \\ket{000} \\\\\n",
    "CCX\\ket{101} = \\ket{101} \\\\\n",
    "CCX\\ket{110} = \\ket{111} \\\\\n",
    "CCX\\ket{111} = \\ket{110}\n",
    "$$"
   ]
  },
  {
   "cell_type": "code",
   "execution_count": 8,
   "id": "28373196",
   "metadata": {},
   "outputs": [
    {
     "data": {
      "image/png": "[encoded data removed]",
      "text/plain": [
       "<Figure size 206.997x264.88 with 1 Axes>"
      ]
     },
     "execution_count": 8,
     "metadata": {},
     "output_type": "execute_result"
    }
   ],
   "source": [
    "quantum_circuit = QuantumCircuit(3,1)\n",
    "quantum_circuit.ccx(0,1,2)\n",
    "quantum_circuit.measure(2,0)\n",
    "\n",
    "quantum_circuit.draw('mpl')"
   ]
  },
  {
   "cell_type": "markdown",
   "id": "87061c06",
   "metadata": {},
   "source": [
    "Author : **[Aditi Rupade](https://aditirupade.github.io/)**"
   ]
  }
 ],
 "metadata": {
  "kernelspec": {
   "display_name": "Python 3 (ipykernel)",
   "language": "python",
   "name": "python3"
  },
  "language_info": {
   "codemirror_mode": {
    "name": "ipython",
    "version": 3
   },
   "file_extension": ".py",
   "mimetype": "text/x-python",
   "name": "python",
   "nbconvert_exporter": "python",
   "pygments_lexer": "ipython3",
   "version": "3.7.11"
  }
 },
 "nbformat": 4,
 "nbformat_minor": 5
}
